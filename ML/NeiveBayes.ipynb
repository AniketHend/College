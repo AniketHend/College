{
 "cells": [
  {
   "cell_type": "code",
   "execution_count": 2,
   "metadata": {},
   "outputs": [],
   "source": [
    "import pandas as pd\n",
    "import numpy as np"
   ]
  },
  {
   "cell_type": "code",
   "execution_count": 3,
   "metadata": {},
   "outputs": [
    {
     "data": {
      "text/html": [
       "<div>\n",
       "<style scoped>\n",
       "    .dataframe tbody tr th:only-of-type {\n",
       "        vertical-align: middle;\n",
       "    }\n",
       "\n",
       "    .dataframe tbody tr th {\n",
       "        vertical-align: top;\n",
       "    }\n",
       "\n",
       "    .dataframe thead th {\n",
       "        text-align: right;\n",
       "    }\n",
       "</style>\n",
       "<table border=\"1\" class=\"dataframe\">\n",
       "  <thead>\n",
       "    <tr style=\"text-align: right;\">\n",
       "      <th></th>\n",
       "      <th>Age</th>\n",
       "      <th>Salary</th>\n",
       "      <th>Purchased</th>\n",
       "    </tr>\n",
       "  </thead>\n",
       "  <tbody>\n",
       "    <tr>\n",
       "      <th>0</th>\n",
       "      <td>19</td>\n",
       "      <td>19000</td>\n",
       "      <td>0</td>\n",
       "    </tr>\n",
       "    <tr>\n",
       "      <th>1</th>\n",
       "      <td>35</td>\n",
       "      <td>20000</td>\n",
       "      <td>0</td>\n",
       "    </tr>\n",
       "    <tr>\n",
       "      <th>2</th>\n",
       "      <td>26</td>\n",
       "      <td>43000</td>\n",
       "      <td>0</td>\n",
       "    </tr>\n",
       "    <tr>\n",
       "      <th>3</th>\n",
       "      <td>27</td>\n",
       "      <td>57000</td>\n",
       "      <td>0</td>\n",
       "    </tr>\n",
       "    <tr>\n",
       "      <th>4</th>\n",
       "      <td>19</td>\n",
       "      <td>76000</td>\n",
       "      <td>0</td>\n",
       "    </tr>\n",
       "    <tr>\n",
       "      <th>...</th>\n",
       "      <td>...</td>\n",
       "      <td>...</td>\n",
       "      <td>...</td>\n",
       "    </tr>\n",
       "    <tr>\n",
       "      <th>395</th>\n",
       "      <td>46</td>\n",
       "      <td>41000</td>\n",
       "      <td>1</td>\n",
       "    </tr>\n",
       "    <tr>\n",
       "      <th>396</th>\n",
       "      <td>51</td>\n",
       "      <td>23000</td>\n",
       "      <td>1</td>\n",
       "    </tr>\n",
       "    <tr>\n",
       "      <th>397</th>\n",
       "      <td>50</td>\n",
       "      <td>20000</td>\n",
       "      <td>1</td>\n",
       "    </tr>\n",
       "    <tr>\n",
       "      <th>398</th>\n",
       "      <td>36</td>\n",
       "      <td>33000</td>\n",
       "      <td>0</td>\n",
       "    </tr>\n",
       "    <tr>\n",
       "      <th>399</th>\n",
       "      <td>49</td>\n",
       "      <td>36000</td>\n",
       "      <td>1</td>\n",
       "    </tr>\n",
       "  </tbody>\n",
       "</table>\n",
       "<p>400 rows × 3 columns</p>\n",
       "</div>"
      ],
      "text/plain": [
       "     Age  Salary  Purchased\n",
       "0     19   19000          0\n",
       "1     35   20000          0\n",
       "2     26   43000          0\n",
       "3     27   57000          0\n",
       "4     19   76000          0\n",
       "..   ...     ...        ...\n",
       "395   46   41000          1\n",
       "396   51   23000          1\n",
       "397   50   20000          1\n",
       "398   36   33000          0\n",
       "399   49   36000          1\n",
       "\n",
       "[400 rows x 3 columns]"
      ]
     },
     "execution_count": 3,
     "metadata": {},
     "output_type": "execute_result"
    }
   ],
   "source": [
    "df = pd.read_csv('NaiveBayes.csv')\n",
    "df"
   ]
  },
  {
   "cell_type": "code",
   "execution_count": 4,
   "metadata": {},
   "outputs": [],
   "source": [
    "Target = df.Purchased\n",
    "Inputs = df.drop('Purchased',axis='columns')"
   ]
  },
  {
   "cell_type": "code",
   "execution_count": 5,
   "metadata": {},
   "outputs": [
    {
     "data": {
      "text/plain": [
       "0      0\n",
       "1      0\n",
       "2      0\n",
       "3      0\n",
       "4      0\n",
       "      ..\n",
       "395    1\n",
       "396    1\n",
       "397    1\n",
       "398    0\n",
       "399    1\n",
       "Name: Purchased, Length: 400, dtype: int64"
      ]
     },
     "execution_count": 5,
     "metadata": {},
     "output_type": "execute_result"
    }
   ],
   "source": [
    "Target"
   ]
  },
  {
   "cell_type": "code",
   "execution_count": 6,
   "metadata": {},
   "outputs": [
    {
     "data": {
      "text/plain": [
       "Age       0\n",
       "Salary    0\n",
       "dtype: int64"
      ]
     },
     "execution_count": 6,
     "metadata": {},
     "output_type": "execute_result"
    }
   ],
   "source": [
    "Inputs.isna().sum()"
   ]
  },
  {
   "cell_type": "code",
   "execution_count": 7,
   "metadata": {},
   "outputs": [],
   "source": [
    "from sklearn.model_selection import train_test_split\n",
    "x_tr,x_ts,y_tr,y_ts = train_test_split(Inputs,Target,test_size=0.3,random_state=0)"
   ]
  },
  {
   "cell_type": "code",
   "execution_count": 8,
   "metadata": {},
   "outputs": [
    {
     "data": {
      "text/html": [
       "<div>\n",
       "<style scoped>\n",
       "    .dataframe tbody tr th:only-of-type {\n",
       "        vertical-align: middle;\n",
       "    }\n",
       "\n",
       "    .dataframe tbody tr th {\n",
       "        vertical-align: top;\n",
       "    }\n",
       "\n",
       "    .dataframe thead th {\n",
       "        text-align: right;\n",
       "    }\n",
       "</style>\n",
       "<table border=\"1\" class=\"dataframe\">\n",
       "  <thead>\n",
       "    <tr style=\"text-align: right;\">\n",
       "      <th></th>\n",
       "      <th>Age</th>\n",
       "      <th>Salary</th>\n",
       "    </tr>\n",
       "  </thead>\n",
       "  <tbody>\n",
       "    <tr>\n",
       "      <th>132</th>\n",
       "      <td>30</td>\n",
       "      <td>87000</td>\n",
       "    </tr>\n",
       "    <tr>\n",
       "      <th>309</th>\n",
       "      <td>38</td>\n",
       "      <td>50000</td>\n",
       "    </tr>\n",
       "    <tr>\n",
       "      <th>341</th>\n",
       "      <td>35</td>\n",
       "      <td>75000</td>\n",
       "    </tr>\n",
       "    <tr>\n",
       "      <th>196</th>\n",
       "      <td>30</td>\n",
       "      <td>79000</td>\n",
       "    </tr>\n",
       "    <tr>\n",
       "      <th>246</th>\n",
       "      <td>35</td>\n",
       "      <td>50000</td>\n",
       "    </tr>\n",
       "    <tr>\n",
       "      <th>...</th>\n",
       "      <td>...</td>\n",
       "      <td>...</td>\n",
       "    </tr>\n",
       "    <tr>\n",
       "      <th>216</th>\n",
       "      <td>49</td>\n",
       "      <td>65000</td>\n",
       "    </tr>\n",
       "    <tr>\n",
       "      <th>259</th>\n",
       "      <td>45</td>\n",
       "      <td>131000</td>\n",
       "    </tr>\n",
       "    <tr>\n",
       "      <th>49</th>\n",
       "      <td>31</td>\n",
       "      <td>89000</td>\n",
       "    </tr>\n",
       "    <tr>\n",
       "      <th>238</th>\n",
       "      <td>46</td>\n",
       "      <td>82000</td>\n",
       "    </tr>\n",
       "    <tr>\n",
       "      <th>343</th>\n",
       "      <td>47</td>\n",
       "      <td>51000</td>\n",
       "    </tr>\n",
       "  </tbody>\n",
       "</table>\n",
       "<p>120 rows × 2 columns</p>\n",
       "</div>"
      ],
      "text/plain": [
       "     Age  Salary\n",
       "132   30   87000\n",
       "309   38   50000\n",
       "341   35   75000\n",
       "196   30   79000\n",
       "246   35   50000\n",
       "..   ...     ...\n",
       "216   49   65000\n",
       "259   45  131000\n",
       "49    31   89000\n",
       "238   46   82000\n",
       "343   47   51000\n",
       "\n",
       "[120 rows x 2 columns]"
      ]
     },
     "execution_count": 8,
     "metadata": {},
     "output_type": "execute_result"
    }
   ],
   "source": [
    "x_ts"
   ]
  },
  {
   "cell_type": "code",
   "execution_count": 9,
   "metadata": {},
   "outputs": [
    {
     "data": {
      "text/html": [
       "<style>#sk-container-id-1 {color: black;}#sk-container-id-1 pre{padding: 0;}#sk-container-id-1 div.sk-toggleable {background-color: white;}#sk-container-id-1 label.sk-toggleable__label {cursor: pointer;display: block;width: 100%;margin-bottom: 0;padding: 0.3em;box-sizing: border-box;text-align: center;}#sk-container-id-1 label.sk-toggleable__label-arrow:before {content: \"▸\";float: left;margin-right: 0.25em;color: #696969;}#sk-container-id-1 label.sk-toggleable__label-arrow:hover:before {color: black;}#sk-container-id-1 div.sk-estimator:hover label.sk-toggleable__label-arrow:before {color: black;}#sk-container-id-1 div.sk-toggleable__content {max-height: 0;max-width: 0;overflow: hidden;text-align: left;background-color: #f0f8ff;}#sk-container-id-1 div.sk-toggleable__content pre {margin: 0.2em;color: black;border-radius: 0.25em;background-color: #f0f8ff;}#sk-container-id-1 input.sk-toggleable__control:checked~div.sk-toggleable__content {max-height: 200px;max-width: 100%;overflow: auto;}#sk-container-id-1 input.sk-toggleable__control:checked~label.sk-toggleable__label-arrow:before {content: \"▾\";}#sk-container-id-1 div.sk-estimator input.sk-toggleable__control:checked~label.sk-toggleable__label {background-color: #d4ebff;}#sk-container-id-1 div.sk-label input.sk-toggleable__control:checked~label.sk-toggleable__label {background-color: #d4ebff;}#sk-container-id-1 input.sk-hidden--visually {border: 0;clip: rect(1px 1px 1px 1px);clip: rect(1px, 1px, 1px, 1px);height: 1px;margin: -1px;overflow: hidden;padding: 0;position: absolute;width: 1px;}#sk-container-id-1 div.sk-estimator {font-family: monospace;background-color: #f0f8ff;border: 1px dotted black;border-radius: 0.25em;box-sizing: border-box;margin-bottom: 0.5em;}#sk-container-id-1 div.sk-estimator:hover {background-color: #d4ebff;}#sk-container-id-1 div.sk-parallel-item::after {content: \"\";width: 100%;border-bottom: 1px solid gray;flex-grow: 1;}#sk-container-id-1 div.sk-label:hover label.sk-toggleable__label {background-color: #d4ebff;}#sk-container-id-1 div.sk-serial::before {content: \"\";position: absolute;border-left: 1px solid gray;box-sizing: border-box;top: 0;bottom: 0;left: 50%;z-index: 0;}#sk-container-id-1 div.sk-serial {display: flex;flex-direction: column;align-items: center;background-color: white;padding-right: 0.2em;padding-left: 0.2em;position: relative;}#sk-container-id-1 div.sk-item {position: relative;z-index: 1;}#sk-container-id-1 div.sk-parallel {display: flex;align-items: stretch;justify-content: center;background-color: white;position: relative;}#sk-container-id-1 div.sk-item::before, #sk-container-id-1 div.sk-parallel-item::before {content: \"\";position: absolute;border-left: 1px solid gray;box-sizing: border-box;top: 0;bottom: 0;left: 50%;z-index: -1;}#sk-container-id-1 div.sk-parallel-item {display: flex;flex-direction: column;z-index: 1;position: relative;background-color: white;}#sk-container-id-1 div.sk-parallel-item:first-child::after {align-self: flex-end;width: 50%;}#sk-container-id-1 div.sk-parallel-item:last-child::after {align-self: flex-start;width: 50%;}#sk-container-id-1 div.sk-parallel-item:only-child::after {width: 0;}#sk-container-id-1 div.sk-dashed-wrapped {border: 1px dashed gray;margin: 0 0.4em 0.5em 0.4em;box-sizing: border-box;padding-bottom: 0.4em;background-color: white;}#sk-container-id-1 div.sk-label label {font-family: monospace;font-weight: bold;display: inline-block;line-height: 1.2em;}#sk-container-id-1 div.sk-label-container {text-align: center;}#sk-container-id-1 div.sk-container {/* jupyter's `normalize.less` sets `[hidden] { display: none; }` but bootstrap.min.css set `[hidden] { display: none !important; }` so we also need the `!important` here to be able to override the default hidden behavior on the sphinx rendered scikit-learn.org. See: https://github.com/scikit-learn/scikit-learn/issues/21755 */display: inline-block !important;position: relative;}#sk-container-id-1 div.sk-text-repr-fallback {display: none;}</style><div id=\"sk-container-id-1\" class=\"sk-top-container\"><div class=\"sk-text-repr-fallback\"><pre>GaussianNB()</pre><b>In a Jupyter environment, please rerun this cell to show the HTML representation or trust the notebook. <br />On GitHub, the HTML representation is unable to render, please try loading this page with nbviewer.org.</b></div><div class=\"sk-container\" hidden><div class=\"sk-item\"><div class=\"sk-estimator sk-toggleable\"><input class=\"sk-toggleable__control sk-hidden--visually\" id=\"sk-estimator-id-1\" type=\"checkbox\" checked><label for=\"sk-estimator-id-1\" class=\"sk-toggleable__label sk-toggleable__label-arrow\">GaussianNB</label><div class=\"sk-toggleable__content\"><pre>GaussianNB()</pre></div></div></div></div></div>"
      ],
      "text/plain": [
       "GaussianNB()"
      ]
     },
     "execution_count": 9,
     "metadata": {},
     "output_type": "execute_result"
    }
   ],
   "source": [
    "from sklearn.naive_bayes import GaussianNB\n",
    "model = GaussianNB()\n",
    "model.fit(x_tr,y_tr)"
   ]
  },
  {
   "cell_type": "code",
   "execution_count": 10,
   "metadata": {},
   "outputs": [],
   "source": [
    "y_pred = model.predict(x_ts)"
   ]
  },
  {
   "cell_type": "code",
   "execution_count": 11,
   "metadata": {},
   "outputs": [
    {
     "data": {
      "text/plain": [
       "array([0, 0, 0, 0, 0, 0, 0, 1, 0, 1, 0, 0, 0, 0, 0, 0, 0, 0, 1, 0, 0, 1,\n",
       "       0, 1, 0, 1, 0, 0, 0, 0, 0, 0, 1, 0, 0, 0, 0, 0, 0, 1, 0, 0, 0, 0,\n",
       "       1, 0, 0, 1, 0, 1, 1, 0, 0, 1, 1, 0, 0, 0, 1, 0, 0, 1, 0, 0, 0, 1,\n",
       "       0, 0, 0, 0, 1, 0, 0, 0, 0, 0, 0, 0, 1, 1, 1, 1, 0, 0, 1, 0, 0, 1,\n",
       "       0, 0, 0, 1, 0, 0, 0, 0, 0, 1, 1, 1, 0, 1, 0, 1, 1, 1, 0, 0, 0, 0,\n",
       "       0, 0, 0, 1, 1, 1, 1, 0, 1, 1], dtype=int64)"
      ]
     },
     "execution_count": 11,
     "metadata": {},
     "output_type": "execute_result"
    }
   ],
   "source": [
    "y_pred"
   ]
  },
  {
   "cell_type": "code",
   "execution_count": 12,
   "metadata": {},
   "outputs": [],
   "source": [
    "y_prob = model.predict_proba(x_ts)"
   ]
  },
  {
   "cell_type": "code",
   "execution_count": 13,
   "metadata": {},
   "outputs": [
    {
     "data": {
      "text/plain": [
       "array([[9.04746473e-01, 9.52535272e-02],\n",
       "       [8.45277586e-01, 1.54722414e-01],\n",
       "       [8.61375035e-01, 1.38624965e-01],\n",
       "       [9.28012995e-01, 7.19870050e-02],\n",
       "       [9.03967615e-01, 9.60323847e-02],\n",
       "       [9.61377244e-01, 3.86227559e-02],\n",
       "       [9.17565863e-01, 8.24341366e-02],\n",
       "       [5.16480951e-02, 9.48351905e-01],\n",
       "       [9.90728965e-01, 9.27103483e-03],\n",
       "       [4.82652501e-01, 5.17347499e-01],\n",
       "       [9.56988442e-01, 4.30115581e-02],\n",
       "       [9.67532124e-01, 3.24678760e-02],\n",
       "       [8.64291272e-01, 1.35708728e-01],\n",
       "       [7.37833586e-01, 2.62166414e-01],\n",
       "       [9.78581429e-01, 2.14185712e-02],\n",
       "       [5.42531007e-01, 4.57468993e-01],\n",
       "       [8.02957648e-01, 1.97042352e-01],\n",
       "       [9.82047792e-01, 1.79522084e-02],\n",
       "       [4.27977634e-03, 9.95720224e-01],\n",
       "       [8.72881852e-01, 1.27118148e-01],\n",
       "       [9.04457507e-01, 9.55424933e-02],\n",
       "       [6.42326606e-03, 9.93576734e-01],\n",
       "       [7.55411469e-01, 2.44588531e-01],\n",
       "       [1.35920536e-01, 8.64079464e-01],\n",
       "       [9.82314924e-01, 1.76850758e-02],\n",
       "       [5.71623638e-03, 9.94283764e-01],\n",
       "       [9.29346433e-01, 7.06535666e-02],\n",
       "       [9.36200803e-01, 6.37991973e-02],\n",
       "       [8.53779614e-01, 1.46220386e-01],\n",
       "       [8.76261314e-01, 1.23738686e-01],\n",
       "       [9.73281613e-01, 2.67183868e-02],\n",
       "       [7.92332334e-01, 2.07667666e-01],\n",
       "       [8.68707426e-02, 9.13129257e-01],\n",
       "       [8.66080874e-01, 1.33919126e-01],\n",
       "       [9.81747701e-01, 1.82522988e-02],\n",
       "       [9.92573810e-01, 7.42619042e-03],\n",
       "       [9.76555890e-01, 2.34441096e-02],\n",
       "       [9.18113291e-01, 8.18867086e-02],\n",
       "       [9.45506263e-01, 5.44937369e-02],\n",
       "       [3.67685450e-01, 6.32314550e-01],\n",
       "       [9.36603674e-01, 6.33963256e-02],\n",
       "       [7.54478774e-01, 2.45521226e-01],\n",
       "       [9.45741138e-01, 5.42588625e-02],\n",
       "       [8.66757860e-01, 1.33242140e-01],\n",
       "       [1.83166483e-01, 8.16833517e-01],\n",
       "       [9.71325925e-01, 2.86740746e-02],\n",
       "       [7.86598588e-01, 2.13401412e-01],\n",
       "       [1.07572559e-01, 8.92427441e-01],\n",
       "       [9.73390124e-01, 2.66098757e-02],\n",
       "       [2.15183912e-01, 7.84816088e-01],\n",
       "       [5.26451615e-03, 9.94735484e-01],\n",
       "       [8.98104387e-01, 1.01895613e-01],\n",
       "       [8.99536829e-01, 1.00463171e-01],\n",
       "       [4.92737100e-01, 5.07262900e-01],\n",
       "       [2.59426274e-02, 9.74057373e-01],\n",
       "       [5.58180518e-01, 4.41819482e-01],\n",
       "       [9.29319364e-01, 7.06806361e-02],\n",
       "       [9.59430321e-01, 4.05696786e-02],\n",
       "       [3.39405203e-01, 6.60594797e-01],\n",
       "       [9.78669858e-01, 2.13301416e-02],\n",
       "       [9.11821836e-01, 8.81781643e-02],\n",
       "       [4.83995478e-02, 9.51600452e-01],\n",
       "       [9.86899065e-01, 1.31009352e-02],\n",
       "       [6.52611117e-01, 3.47388883e-01],\n",
       "       [9.89519043e-01, 1.04809568e-02],\n",
       "       [2.50911395e-02, 9.74908860e-01],\n",
       "       [9.57354900e-01, 4.26451004e-02],\n",
       "       [9.71325925e-01, 2.86740746e-02],\n",
       "       [7.90607736e-01, 2.09392264e-01],\n",
       "       [6.58869251e-01, 3.41130749e-01],\n",
       "       [5.50616241e-02, 9.44938376e-01],\n",
       "       [8.53850316e-01, 1.46149684e-01],\n",
       "       [9.85347228e-01, 1.46527725e-02],\n",
       "       [5.06610940e-01, 4.93389060e-01],\n",
       "       [9.33942367e-01, 6.60576328e-02],\n",
       "       [9.86003354e-01, 1.39966458e-02],\n",
       "       [5.97512789e-01, 4.02487211e-01],\n",
       "       [7.74814592e-01, 2.25185408e-01],\n",
       "       [1.92192949e-01, 8.07807051e-01],\n",
       "       [1.21922398e-01, 8.78077602e-01],\n",
       "       [5.68428120e-04, 9.99431572e-01],\n",
       "       [3.16294072e-02, 9.68370593e-01],\n",
       "       [9.82293330e-01, 1.77066704e-02],\n",
       "       [9.75258949e-01, 2.47410510e-02],\n",
       "       [7.35935802e-02, 9.26406420e-01],\n",
       "       [5.89188960e-01, 4.10811040e-01],\n",
       "       [7.12505963e-01, 2.87494037e-01],\n",
       "       [1.69561233e-03, 9.98304388e-01],\n",
       "       [5.31655789e-01, 4.68344211e-01],\n",
       "       [7.39705408e-01, 2.60294592e-01],\n",
       "       [6.87046755e-01, 3.12953245e-01],\n",
       "       [3.56245306e-02, 9.64375469e-01],\n",
       "       [9.85231971e-01, 1.47680288e-02],\n",
       "       [9.78153492e-01, 2.18465075e-02],\n",
       "       [9.65128022e-01, 3.48719776e-02],\n",
       "       [9.09838098e-01, 9.01619019e-02],\n",
       "       [9.83071230e-01, 1.69287704e-02],\n",
       "       [4.08632633e-01, 5.91367367e-01],\n",
       "       [2.21550608e-01, 7.78449392e-01],\n",
       "       [3.13680086e-01, 6.86319914e-01],\n",
       "       [6.26559306e-01, 3.73440694e-01],\n",
       "       [4.85991319e-01, 5.14008681e-01],\n",
       "       [8.45277586e-01, 1.54722414e-01],\n",
       "       [2.08993499e-01, 7.91006501e-01],\n",
       "       [1.85797696e-01, 8.14202304e-01],\n",
       "       [4.40456126e-02, 9.55954387e-01],\n",
       "       [8.18432661e-01, 1.81567339e-01],\n",
       "       [8.31498629e-01, 1.68501371e-01],\n",
       "       [8.87277157e-01, 1.12722843e-01],\n",
       "       [8.73172214e-01, 1.26827786e-01],\n",
       "       [8.80789775e-01, 1.19210225e-01],\n",
       "       [9.03967615e-01, 9.60323847e-02],\n",
       "       [6.41070177e-01, 3.58929823e-01],\n",
       "       [4.83768329e-01, 5.16231671e-01],\n",
       "       [5.24689247e-02, 9.47531075e-01],\n",
       "       [3.41221858e-01, 6.58778142e-01],\n",
       "       [3.26125498e-02, 9.67387450e-01],\n",
       "       [8.80558180e-01, 1.19441820e-01],\n",
       "       [3.74901044e-01, 6.25098956e-01],\n",
       "       [4.82038629e-01, 5.17961371e-01]])"
      ]
     },
     "execution_count": 13,
     "metadata": {},
     "output_type": "execute_result"
    }
   ],
   "source": [
    "y_prob"
   ]
  },
  {
   "cell_type": "code",
   "execution_count": 15,
   "metadata": {},
   "outputs": [
    {
     "data": {
      "text/plain": [
       "array([[74,  8],\n",
       "       [ 5, 33]], dtype=int64)"
      ]
     },
     "execution_count": 15,
     "metadata": {},
     "output_type": "execute_result"
    }
   ],
   "source": [
    "import seaborn as sns\n",
    "from sklearn.metrics import confusion_matrix\n",
    "cm = confusion_matrix(y_pred,y_ts)\n",
    "cm"
   ]
  },
  {
   "cell_type": "code",
   "execution_count": 16,
   "metadata": {},
   "outputs": [
    {
     "data": {
      "text/plain": [
       "<Axes: >"
      ]
     },
     "execution_count": 16,
     "metadata": {},
     "output_type": "execute_result"
    },
    {
     "data": {
      "image/png": "[encoded data removed]",
      "text/plain": [
       "<Figure size 640x480 with 2 Axes>"
      ]
     },
     "metadata": {},
     "output_type": "display_data"
    }
   ],
   "source": [
    "sns.heatmap(cm,annot=True)"
   ]
  },
  {
   "cell_type": "code",
   "execution_count": null,
   "metadata": {},
   "outputs": [],
   "source": []
  }
 ],
 "metadata": {
  "kernelspec": {
   "display_name": "base",
   "language": "python",
   "name": "python3"
  },
  "language_info": {
   "codemirror_mode": {
    "name": "ipython",
    "version": 3
   },
   "file_extension": ".py",
   "mimetype": "text/x-python",
   "name": "python",
   "nbconvert_exporter": "python",
   "pygments_lexer": "ipython3",
   "version": "3.11.5"
  }
 },
 "nbformat": 4,
 "nbformat_minor": 2
}
