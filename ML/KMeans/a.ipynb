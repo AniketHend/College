{
 "cells": [
  {
   "cell_type": "code",
   "execution_count": 2,
   "metadata": {},
   "outputs": [
    {
     "name": "stdout",
     "output_type": "stream",
     "text": [
      "1) Cluster P6 belongs to: C1\n",
      "2) Population of cluster around m2: 3\n",
      "3) Updated value of m1: [0.148 0.712]\n",
      "   Updated value of m2: [0.24666667 0.2       ]\n"
     ]
    }
   ],
   "source": [
    "import numpy as np\n",
    "\n",
    "# Given points\n",
    "points = np.array([[0.1, 0.6], [0.15, 0.71], [0.08, 0.9], [0.16, 0.85], [0.2, 0.3], [0.25, 0.5], [0.24, 0.1], [0.3, 0.2]])\n",
    "\n",
    "# Given initial centroids\n",
    "m1 = np.array([0.1, 0.6])  # Initial centroid for cluster 1 (C1)\n",
    "m2 = np.array([0.3, 0.2])  # Initial centroid for cluster 2 (C2)\n",
    "\n",
    "# Function to assign points to clusters\n",
    "def assign_to_clusters(points, m1, m2):\n",
    "    cluster1 = []\n",
    "    cluster2 = []\n",
    "\n",
    "    for point in points:\n",
    "        dist_to_m1 = np.linalg.norm(point - m1)\n",
    "        dist_to_m2 = np.linalg.norm(point - m2)\n",
    "\n",
    "        if dist_to_m1 < dist_to_m2:\n",
    "            cluster1.append(point)\n",
    "        else:\n",
    "            cluster2.append(point)\n",
    "\n",
    "    return np.array(cluster1), np.array(cluster2)\n",
    "\n",
    "# Function to calculate new centroids\n",
    "def calculate_new_centroids(cluster1, cluster2):\n",
    "    new_m1 = np.mean(cluster1, axis=0)\n",
    "    new_m2 = np.mean(cluster2, axis=0)\n",
    "    return new_m1, new_m2\n",
    "\n",
    "# K-Means clustering iterations\n",
    "for i in range(10):  # Adjust the number of iterations as needed\n",
    "    cluster1, cluster2 = assign_to_clusters(points, m1, m2)\n",
    "    new_m1, new_m2 = calculate_new_centroids(cluster1, cluster2)\n",
    "\n",
    "    # Check for convergence\n",
    "    if np.array_equal(m1, new_m1) and np.array_equal(m2, new_m2):\n",
    "        break\n",
    "\n",
    "    # Update centroids for the next iteration\n",
    "    m1, m2 = new_m1, new_m2\n",
    "\n",
    "# Results\n",
    "print(\"1) Cluster P6 belongs to:\", \"C1\" if m1[0] < 0.25 else \"C2\")\n",
    "print(\"2) Population of cluster around m2:\", len(cluster2))\n",
    "print(\"3) Updated value of m1:\", new_m1)\n",
    "print(\"   Updated value of m2:\", new_m2)\n"
   ]
  }
 ],
 "metadata": {
  "kernelspec": {
   "display_name": "base",
   "language": "python",
   "name": "python3"
  },
  "language_info": {
   "codemirror_mode": {
    "name": "ipython",
    "version": 3
   },
   "file_extension": ".py",
   "mimetype": "text/x-python",
   "name": "python",
   "nbconvert_exporter": "python",
   "pygments_lexer": "ipython3",
   "version": "3.11.5"
  }
 },
 "nbformat": 4,
 "nbformat_minor": 2
}
