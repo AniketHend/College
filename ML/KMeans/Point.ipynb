import numpy as np

# Given points
points = np.array([[0.1, 0.6], [0.15, 0.71], [0.08, 0.9], [0.16, 0.85], [0.2, 0.3], [0.25, 0.5], [0.24, 0.1], [0.3, 0.2]])

# Given initial centroids
m1 = np.array([0.1, 0.6])  # Initial centroid for cluster 1 (C1)
m2 = np.array([0.3, 0.2])  # Initial centroid for cluster 2 (C2)

# Function to assign points to clusters
def assign_to_clusters(points, m1, m2):
    cluster1 = []
    cluster2 = []

    for point in points:
        dist_to_m1 = np.linalg.norm(point - m1)
        dist_to_m2 = np.linalg.norm(point - m2)

        if dist_to_m1 < dist_to_m2:
            cluster1.append(point)
        else:
            cluster2.append(point)

    return np.array(cluster1), np.array(cluster2)

# Function to calculate new centroids
def calculate_new_centroids(cluster1, cluster2):
    new_m1 = np.mean(cluster1, axis=0)
    new_m2 = np.mean(cluster2, axis=0)
    return new_m1, new_m2

# K-Means clustering iterations
for i in range(10):  # Adjust the number of iterations as needed
    cluster1, cluster2 = assign_to_clusters(points, m1, m2)
    new_m1, new_m2 = calculate_new_centroids(cluster1, cluster2)

    # Check for convergence
    if np.array_equal(m1, new_m1) and np.array_equal(m2, new_m2):
        break

    # Update centroids for the next iteration
    m1, m2 = new_m1, new_m2

# Results
print("1) Cluster P6 belongs to:", "C1" if m1[0] < 0.25 else "C2")
print("2) Population of cluster around m2:", len(cluster2))
print("3) Updated value of m1:", new_m1)
print("   Updated value of m2:", new_m2)
